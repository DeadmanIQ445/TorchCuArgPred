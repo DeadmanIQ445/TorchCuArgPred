{
 "cells": [
  {
   "cell_type": "code",
   "execution_count": 1,
   "id": "general-indication",
   "metadata": {},
   "outputs": [],
   "source": [
    "from transformers import AutoTokenizer, AutoModel\n",
    "import torch\n",
    "from torch.utils.data import Dataset, DataLoader\n",
    "import torch.nn.functional as F\n",
    "\n",
    "import pandas as pd\n",
    "import json\n",
    "import numpy as np\n",
    "from sklearn import preprocessing\n",
    "from torch import nn\n",
    "from tqdm.notebook import tqdm\n",
    "\n",
    "import ast"
   ]
  },
  {
   "cell_type": "code",
   "execution_count": 2,
   "id": "third-governor",
   "metadata": {},
   "outputs": [],
   "source": [
    "BATCH_SIZE = 2\n",
    "TRAIN_TEST_SPLIT = 0.9\n",
    "DS_PATH = \"data/_all_data2.csv\"\n",
    "EPOCHS = 3\n",
    "FREQ_LIMIT = 300 # 38 types\n",
    "FREQ_LIMIT = 50 # 38 types\n",
    "# FREQ_LIMIT = 10\n",
    "# FREQ_LIMIT = 200 50\n",
    "FREQ_CUT_SYMBOL = \"<UNK>\"\n",
    "NaN_symbol = ''\n",
    "MAX_CUT = 5000\n",
    "# MODEL_NAME_HUGGING = \"huggingface/CodeBERTa-small-v1\" # for a distilled version\n",
    "MODEL_NAME_HUGGING = \"microsoft/codebert-base\" # for a RoBERTa version\n"
   ]
  },
  {
   "cell_type": "code",
   "execution_count": 3,
   "id": "acknowledged-receiver",
   "metadata": {},
   "outputs": [],
   "source": [
    "tokenizer = AutoTokenizer.from_pretrained(MODEL_NAME_HUGGING)\n",
    "bert = AutoModel.from_pretrained(MODEL_NAME_HUGGING, torchscript=True)"
   ]
  },
  {
   "cell_type": "code",
   "execution_count": 4,
   "id": "minute-petersburg",
   "metadata": {},
   "outputs": [],
   "source": [
    "data = pd.read_csv(DS_PATH)\n",
    "data['arg_types'] = data['arg_types'].apply(eval)\n",
    "data = data[data.arg_types.astype(bool)]\n",
    "df_labels = pd.DataFrame(data['arg_types'].values.tolist())\n",
    "df_labels[pd.isnull(df_labels)]  = NaN_symbol"
   ]
  },
  {
   "cell_type": "raw",
   "id": "african-pregnancy",
   "metadata": {},
   "source": [
    "print(data.iloc[74997]['repo'])"
   ]
  },
  {
   "cell_type": "raw",
   "id": "literary-village",
   "metadata": {
    "scrolled": true
   },
   "source": [
    "import seaborn as sns\n",
    "\n",
    "sns.set(rc={'figure.figsize':(8.27,8.27)})\n",
    "sns.set_style(\"darkgrid\")\n",
    "ax = sns.boxplot(y=data['arg_types'].apply(len).sort_values(ascending=False).iloc[1:], )\n",
    "ax.set(ylabel='Arguments', title='Number of arguments per method')"
   ]
  },
  {
   "cell_type": "raw",
   "id": "reflected-polymer",
   "metadata": {},
   "source": [
    "sns.boxplot(data.repo.value_counts())"
   ]
  },
  {
   "cell_type": "raw",
   "id": "spiritual-booking",
   "metadata": {},
   "source": [
    "sns.set(rc={'figure.figsize':(4,8.27)})\n",
    "\n",
    "ax = sns.barplot(x=[20,50,100,200],y=[84.3, 82.5, 79, 73], palette='cubehelix')\n",
    "ax.set(ylabel='Accuracy', title='Model Performance', xlabel='Number of Types')\n",
    "ax.set_ylim(0,100)"
   ]
  },
  {
   "cell_type": "raw",
   "id": "significant-michigan",
   "metadata": {},
   "source": [
    "df_labels.apply(pd.Series.value_counts).sum(axis=1).sort_values(ascending=False).iloc[1:].index"
   ]
  },
  {
   "cell_type": "raw",
   "id": "british-logan",
   "metadata": {},
   "source": [
    "sns.set(rc={'figure.figsize':(12.5,8.27)})\n",
    "\n",
    "ax = sns.barplot(x= df_labels.apply(pd.Series.value_counts).sum(axis=1).sort_values(ascending=False).iloc[1:], y=df_labels.apply(pd.Series.value_counts).sum(axis=1).sort_values(ascending=False).iloc[1:])\n",
    "\n",
    "\n",
    "ax.set_xticklabels('')\n",
    "ax.set(ylabel='Number of arguments with type', xlabel='Type', title='Number of arguments with type')"
   ]
  },
  {
   "cell_type": "code",
   "execution_count": 5,
   "id": "distant-burns",
   "metadata": {},
   "outputs": [
    {
     "data": {
      "text/plain": [
       "                 5515939\n",
       "<UNK>              80697\n",
       "str                 5036\n",
       "float               5012\n",
       "int                 5010\n",
       "Any                 5008\n",
       "dict                4966\n",
       "list                4958\n",
       "bool                4957\n",
       "callable            3335\n",
       "Path                2759\n",
       "HttpRequest         2234\n",
       "HomeAssistant       2223\n",
       "UserProfile         2148\n",
       "iterable            2072\n",
       "dtype: int64"
      ]
     },
     "execution_count": 5,
     "metadata": {},
     "output_type": "execute_result"
    }
   ],
   "source": [
    "def remove_composite(p):\n",
    "    a = []\n",
    "    for i in p:\n",
    "        if 'tuple' in i.lower():\n",
    "            a.append(i)\n",
    "            continue\n",
    "        if '[' in i and not 'Union' in i:\n",
    "            b = i.split('[')                \n",
    "            if 'Optional' == b[0]:\n",
    "                if len(b)>1:\n",
    "                    a.append(b[1].split(']')[0].lower())\n",
    "                else:\n",
    "                    a.append(b[0].lower())\n",
    "            else:\n",
    "                a.append(b[0].lower())\n",
    "        else:\n",
    "            if i=='List' or i=='Dict' or i=='Callable':\n",
    "                a.append(i.lower())                \n",
    "            else:\n",
    "                a.append(i.split('.')[-1])\n",
    "    return a\n",
    "\n",
    "def replace_type(df, typ='str', frac=0.9):\n",
    "    df2= df.copy()\n",
    "    str_cvrt = func(typ)\n",
    "    df2.update(df[df.eq(typ).any(axis=1)].sample(frac=frac).apply(str_cvrt))\n",
    "    return df2\n",
    "\n",
    "\n",
    "def func(typ):\n",
    "    def cvrt(p):\n",
    "        a = []\n",
    "        for i in p:\n",
    "            if i == typ:\n",
    "                a.append(FREQ_CUT_SYMBOL)\n",
    "            else:\n",
    "                a.append(i)\n",
    "        return a\n",
    "    return cvrt\n",
    "\n",
    "dd = df_labels.apply(remove_composite)\n",
    "for (k,v) in dict(dd.apply(pd.Series.value_counts).sum(axis=1).sort_values(ascending=False)).items():\n",
    "    if k!=FREQ_CUT_SYMBOL and k!=NaN_symbol and v>MAX_CUT:\n",
    "        dd = replace_type(dd, k, (v-MAX_CUT)/v) \n",
    "df_labels = dd\n",
    "dd.apply(pd.Series.value_counts).sum(axis=1).sort_values(ascending=False).head(15).astype(int)"
   ]
  },
  {
   "cell_type": "code",
   "execution_count": 6,
   "id": "consecutive-revision",
   "metadata": {
    "scrolled": false
   },
   "outputs": [
    {
     "name": "stdout",
     "output_type": "stream",
     "text": [
      "[''] ['<UNK>']\n",
      "Enc for \"NaN\" [0], Enc for FREQ_CUT_SYMBOL [4]\n"
     ]
    },
    {
     "data": {
      "text/plain": [
       "219"
      ]
     },
     "execution_count": 6,
     "metadata": {},
     "output_type": "execute_result"
    }
   ],
   "source": [
    "def la(data_batch_i):\n",
    "    r = []\n",
    "    \n",
    "    for i in data_batch_i:\n",
    "        if not (i == NaN_enc[0] or i==FREQ_CUT_ENC[0] or i==Any_enc[0]):\n",
    "            r.append(i)\n",
    "        if i==FREQ_CUT_ENC[0] or i==Any_enc[0]:\n",
    "            r.append(NaN_enc[0])\n",
    "    if len(r) == 0 or sum(r)==0:\n",
    "        return pd.NA\n",
    "    return r\n",
    "\n",
    "df_labels = df_labels.apply(lambda x: x.mask(x.map(x.value_counts())<FREQ_LIMIT, FREQ_CUT_SYMBOL))\n",
    "enc = preprocessing.LabelEncoder()\n",
    "all_types = df_labels.apply(pd.Series).stack().values\n",
    "enc.fit(all_types)\n",
    "FREQ_CUT_ENC = enc.transform([FREQ_CUT_SYMBOL])\n",
    "NaN_enc = enc.transform([NaN_symbol])\n",
    "Any_enc = enc.transform(['Any'])\n",
    "print(enc.inverse_transform(NaN_enc), enc.inverse_transform(FREQ_CUT_ENC))\n",
    "print(f'Enc for \"NaN\" {NaN_enc}, Enc for FREQ_CUT_SYMBOL {FREQ_CUT_ENC}')\n",
    "df3 = df_labels.apply(enc.transform)\n",
    "data['labels'] = df3.values.tolist()\n",
    "\n",
    "data['labels'] = data['labels'].apply(la)\n",
    "data = data.dropna(subset=['labels'], axis=0)\n",
    "\n",
    "\n",
    "\n",
    "def train_test_by_repo(data, split=0.75):\n",
    "    train_l = []\n",
    "    test_l = []\n",
    "    c = 0\n",
    "    train_len = split * len(data)\n",
    "    for name, i in data.groupby(['repo']).count().sample(frac=1).iterrows():\n",
    "        if train_len > c:\n",
    "            train_l.append(name)\n",
    "            c += i['author']\n",
    "        else:\n",
    "            test_l.append(name)\n",
    "    return data.loc[data['repo'].isin(train_l)], data.loc[data['repo'].isin(test_l)]\n",
    "\n",
    "\n",
    "\n",
    "train_ds, test_ds = train_test_by_repo(data, TRAIN_TEST_SPLIT)\n",
    "\n",
    "\n",
    "len(enc.classes_)"
   ]
  },
  {
   "cell_type": "code",
   "execution_count": 7,
   "id": "decent-monroe",
   "metadata": {},
   "outputs": [],
   "source": [
    "with open(\"types.txt\", 'w') as f:\n",
    "    for i in enc.classes_:\n",
    "        f.write(i)\n",
    "        f.write('\\n')"
   ]
  },
  {
   "cell_type": "code",
   "execution_count": 43,
   "id": "meaning-density",
   "metadata": {},
   "outputs": [
    {
     "name": "stdout",
     "output_type": "stream",
     "text": [
      "There are 1 GPU(s) available.\n",
      "Device name: GeForce RTX 2060 SUPER\n"
     ]
    }
   ],
   "source": [
    "if torch.cuda.is_available():       \n",
    "    device = torch.device(\"cuda\")\n",
    "    print(f'There are {torch.cuda.device_count()} GPU(s) available.')\n",
    "    print('Device name:', torch.cuda.get_device_name(0))\n",
    "\n",
    "else:\n",
    "    print('No GPU available, using the CPU instead.')\n",
    "    device = torch.device(\"cpu\")\n",
    "    \n",
    "# device = torch.device(\"cpu\")"
   ]
  },
  {
   "cell_type": "code",
   "execution_count": 9,
   "id": "sustainable-globe",
   "metadata": {},
   "outputs": [
    {
     "name": "stdout",
     "output_type": "stream",
     "text": [
      "\n"
     ]
    }
   ],
   "source": [
    "bert.to(device)\n",
    "print()"
   ]
  },
  {
   "cell_type": "code",
   "execution_count": 10,
   "id": "backed-acoustic",
   "metadata": {},
   "outputs": [],
   "source": [
    "def process_elem(data_batch_i):\n",
    "    sentence_line =  tokenizer(data_batch_i['body'], return_tensors='pt', padding='max_length', truncation=True)\n",
    "    sentence_line1 = tokenizer(data_batch_i['body'], padding='max_length', truncation=True,  return_offsets_mapping=True, return_length=True)\n",
    "    args = get_names(data_batch_i['body'])\n",
    "    labels = dict(zip([i[0] for i in args], data_batch_i['labels']))\n",
    "    args = offset2ind(args, sentence_line1)\n",
    "    ids = torch.zeros_like(sentence_line['input_ids'])\n",
    "    for i in args:\n",
    "        ids[0][i[1]]=labels.get(i[0], NaN_enc[0])\n",
    "    return sentence_line, ids\n",
    "\n",
    "def offset2ind(args, tokens):\n",
    "    def find(tok, lis):\n",
    "        r = []\n",
    "        for i in lis:\n",
    "            if i[0]>=tok[1][0] and i[1]<=tok[1][1]:\n",
    "                r.append(i)\n",
    "                break\n",
    "        b = [lis.index(i) for i in r]\n",
    "        return b\n",
    "    return [(i[0], find(i,tokens['offset_mapping'])) for i in args]\n",
    "\n",
    "\n",
    "def get_names(src):\n",
    "    ret = []\n",
    "    line_lengths = [len(i) for i in src.split('\\n')]\n",
    "    line_lengths = [0] + line_lengths\n",
    "    for i in range(1,len(line_lengths)):\n",
    "        line_lengths[i] += line_lengths[i-1]+1\n",
    "    \n",
    "    try:\n",
    "        for node in ast.walk(ast.parse(src)):\n",
    "            if isinstance(node, ast.arg):\n",
    "                ret.append((node.arg,(line_lengths[node.lineno-1]+node.col_offset, line_lengths[node.lineno-1]+node.end_col_offset)))\n",
    "        return ret\n",
    "    except:\n",
    "        print(\"Could Not process the code\")\n",
    "        return ret\n",
    "    "
   ]
  },
  {
   "cell_type": "code",
   "execution_count": 11,
   "id": "outside-grill",
   "metadata": {},
   "outputs": [],
   "source": [
    "class JITDataDataset(Dataset):\n",
    "\n",
    "    def __init__(self, df):\n",
    "        self.data = df\n",
    "\n",
    "    def __len__(self):\n",
    "        return len(self.data)\n",
    "\n",
    "    def __getitem__(self, idx):\n",
    "        if torch.is_tensor(idx):\n",
    "            idx = idx.tolist()\n",
    "\n",
    "        data_batch = self.data.iloc[idx, :]\n",
    "        full_sentence, ids = process_elem(data_batch)\n",
    "        return (full_sentence['input_ids'].squeeze().to(device),\n",
    "                full_sentence['attention_mask'].squeeze().to(device),\n",
    "                (ids > 0).squeeze().to(device),\n",
    "                ids.squeeze().to(device))"
   ]
  },
  {
   "cell_type": "code",
   "execution_count": 12,
   "id": "drawn-posting",
   "metadata": {},
   "outputs": [],
   "source": [
    "train = DataLoader(JITDataDataset(train_ds), batch_size=4,\n",
    "                        shuffle=True)"
   ]
  },
  {
   "cell_type": "code",
   "execution_count": 13,
   "id": "reverse-chase",
   "metadata": {},
   "outputs": [
    {
     "name": "stdout",
     "output_type": "stream",
     "text": [
      "\n"
     ]
    }
   ],
   "source": [
    "class JITModel(torch.nn.Module):\n",
    "    def __init__(self, bert, out_dim):\n",
    "        super().__init__()\n",
    "        self.out_dim = out_dim\n",
    "        self.bert = bert\n",
    "#         \n",
    "        self.dense = nn.Linear(768, out_dim)\n",
    "        nn.init.normal_(self.dense.weight,0,0.02)\n",
    "    def forward(self, a,b,c,d):\n",
    "        \n",
    "        emb = self.bert(a, attention_mask=b)[0]\n",
    "        out = self.dense(emb)\n",
    "        mask = c.unsqueeze(-1).expand(out.size())\n",
    "        masked = torch.masked_select(out, mask).reshape(len(torch.masked_select(d, c)),self.out_dim)\n",
    "        return F.softmax(masked)\n",
    "#          masked\n",
    "\n",
    "\n",
    "model = JITModel(bert, len(enc.classes_))\n",
    "model.to(device)\n",
    "print()"
   ]
  },
  {
   "cell_type": "code",
   "execution_count": 14,
   "id": "covered-wrong",
   "metadata": {},
   "outputs": [],
   "source": [
    "cpu = torch.device(\"cpu\")"
   ]
  },
  {
   "cell_type": "raw",
   "id": "formal-demonstration",
   "metadata": {},
   "source": [
    "\n",
    "a = next(iter(test))\n",
    "model.to(cpu)\n",
    "model.bert.to(cpu)\n",
    "model.bert = torch.jit.trace(model.bert, (a[0].to(cpu), a[1].to(cpu)))\n",
    "\n",
    "traced_model = torch.jit.script(model)\n",
    "torch.jit.save(traced_model, \"ppp.pt\")"
   ]
  },
  {
   "cell_type": "raw",
   "id": "destroyed-balloon",
   "metadata": {},
   "source": [
    "i=7\n",
    "for name, param in bert.named_parameters():                                            \n",
    "    if f'encoder.layer.{i}' in name:\n",
    "        param.requires_grad = True\n",
    "        i+=1\n",
    "    else:\n",
    "        param.requires_grad = False"
   ]
  },
  {
   "cell_type": "raw",
   "id": "grateful-royalty",
   "metadata": {},
   "source": [
    "for param in model.bert.parameters():\n",
    "    param.requires_grad = True"
   ]
  },
  {
   "cell_type": "code",
   "execution_count": 51,
   "id": "intermediate-editing",
   "metadata": {
    "scrolled": true
   },
   "outputs": [
    {
     "data": {
      "application/vnd.jupyter.widget-view+json": {
       "model_id": "652745fe723a4a579f6697189c9bc547",
       "version_major": 2,
       "version_minor": 0
      },
      "text/plain": [
       "  0%|          | 0/13458 [00:00<?, ?it/s]"
      ]
     },
     "metadata": {},
     "output_type": "display_data"
    },
    {
     "name": "stderr",
     "output_type": "stream",
     "text": [
      "<ipython-input-13-c4ed2242367e>:15: UserWarning: Implicit dimension choice for softmax has been deprecated. Change the call to include dim=X as an argument.\n",
      "  return F.softmax(masked)\n"
     ]
    },
    {
     "name": "stdout",
     "output_type": "stream",
     "text": [
      "['Realm' 'HomeAssistant' 'ActiveConnection' 'Request' 'list' 'Session'\n",
      " 'callable'] ['Realm' 'HomeAssistant' 'ActiveConnection' 'Request' 'list' 'Session'\n",
      " 'callable']\n",
      "['list' 'bool' 'Path' 'set' 'float' 'float'] ['list' 'bool' 'Path' 'set' 'float' 'float']\n",
      "['Path' 'bool' 'str' 'int' 'datetime'] ['Path' 'bool' 'str' 'int' 'datetime']\n",
      "['Mock' 'Mock' 'Circuit' 'float' 'HTTPRequest'] ['Mock' 'Mock' 'Circuit' 'float' 'HTTPRequest']\n",
      "['ConfigType' 'vertex_constructor_param_types' 'iterable' 'Context'] ['ConfigType' 'vertex_constructor_param_types' 'iterable' 'Context']\n",
      "['Type' 'Path' 'HttpRequest' 'UserProfile' 'list' 'Message' 'Message'] ['Type' 'Path' 'HttpRequest' 'UserProfile' 'list' 'Message' 'Message']\n",
      "['StateApps' 'DatabaseSchemaEditor' 'Circuit' 'float' 'set'] ['StateApps' 'DatabaseSchemaEditor' 'Circuit' 'float' 'set']\n",
      "['bool' 'ndarray' 'float' 'list'] ['bool' 'ndarray' 'float' 'iterable']\n",
      "['PixmapDiffer' 'HttpRequest' 'int' 'str'] ['PixmapDiffer' 'HttpRequest' 'int' 'str']\n",
      "['HomeAssistantType' 'HomeAssistant' 'HomeAssistant' 'callable'] ['HomeAssistantType' 'HomeAssistant' 'HomeAssistant' 'callable']\n",
      "['HomeAssistantType' 'ConfigEntry' 'list' 'object' 'Helper'] ['HomeAssistantType' 'ConfigEntry' 'list' 'object' 'Helper']\n"
     ]
    }
   ],
   "source": [
    "opti = torch.optim.Adam(model.parameters(), lr = 2e-5)\n",
    "pbar = tqdm(total=len(train))\n",
    "losses = []\n",
    "accuracy = []\n",
    "for i,a in enumerate(train):\n",
    "    out = model.forward(a[0], a[1], a[2], a[3])\n",
    "    \n",
    "    labels = torch.masked_select(a[3], a[2])\n",
    "    loss = F.nll_loss(torch.log(out), labels)\n",
    "    if i % (len(train)//10)==0:\n",
    "        print(enc.inverse_transform(torch.argmax(out.cpu(), dim=1)), enc.inverse_transform(labels.cpu()))\n",
    "        \n",
    "    opti.zero_grad()\n",
    "    loss.backward()\n",
    "\n",
    "    if torch.isnan(loss):\n",
    "        print(a)\n",
    "        pass\n",
    "    else:\n",
    "        accuracy.append(sum(torch.argmax(out.detach(), dim=1) == labels)/len(labels))\n",
    "        losses.append(loss.detach())\n",
    "    opti.step()\n",
    "    if i % 5 ==0:\n",
    "        pbar.set_description(f\"Loss : { sum(losses)/len(losses)}, acc: {sum(accuracy)/len(accuracy)}\")\n",
    "    pbar.update(1)\n",
    "pbar.close()"
   ]
  },
  {
   "cell_type": "code",
   "execution_count": 16,
   "id": "double-gallery",
   "metadata": {},
   "outputs": [],
   "source": [
    "pr_av = lambda x : sum(x)/len(x)"
   ]
  },
  {
   "cell_type": "code",
   "execution_count": 17,
   "id": "russian-yorkshire",
   "metadata": {},
   "outputs": [],
   "source": [
    "test = DataLoader(JITDataDataset(test_ds), batch_size=1, num_workers=0)"
   ]
  },
  {
   "cell_type": "code",
   "execution_count": 52,
   "id": "olive-migration",
   "metadata": {
    "scrolled": true
   },
   "outputs": [
    {
     "data": {
      "application/vnd.jupyter.widget-view+json": {
       "model_id": "12afccaa0cee4b209d323df06034aa87",
       "version_major": 2,
       "version_minor": 0
      },
      "text/plain": [
       "  0%|          | 0/5925 [00:00<?, ?it/s]"
      ]
     },
     "metadata": {},
     "output_type": "display_data"
    },
    {
     "name": "stderr",
     "output_type": "stream",
     "text": [
      "<ipython-input-13-c4ed2242367e>:15: UserWarning: Implicit dimension choice for softmax has been deprecated. Change the call to include dim=X as an argument.\n",
      "  return F.softmax(masked)\n"
     ]
    }
   ],
   "source": [
    "pbar = tqdm(total=len(test))\n",
    "test_top_5s = []\n",
    "test_accuracy = []\n",
    "test_losses = []\n",
    "test_true = []\n",
    "test_pred = []\n",
    "for i,a in enumerate(test):\n",
    "    out = model.forward(a[0], a[1], a[2], a[3])\n",
    "    labels = torch.masked_select(a[3], a[2])\n",
    "    loss = F.nll_loss(torch.log(out), labels)\n",
    "\n",
    "    if torch.isnan(loss):\n",
    "        print(a)\n",
    "        pass\n",
    "    else:\n",
    "        test_pred = test_pred + list(enc.inverse_transform(torch.argmax(out.cpu(), dim=1)))\n",
    "        test_true = test_true + list(enc.inverse_transform(labels.cpu()))\n",
    "        test_accuracy.append(sum(torch.argmax(out, dim=1) == labels).detach()/len(labels))\n",
    "        test_losses.append(loss.detach())\n",
    "        top5s = torch.topk(out, 5).indices\n",
    "        correct_top5 = 0\n",
    "        for i in range(len(labels)):\n",
    "            if labels[i] in top5s[i]:\n",
    "                correct_top5 += 1\n",
    "        test_top_5s.append(correct_top5/len(labels))\n",
    "    \n",
    "    if i % 20 ==0:\n",
    "        pbar.set_description(f\"Loss : { pr_av(test_losses)}, acc: {pr_av(test_accuracy)}, top5s: {pr_av(test_top_5s)}\")\n",
    "    pbar.update(1)\n",
    "pbar.close()"
   ]
  },
  {
   "cell_type": "code",
   "execution_count": 19,
   "id": "fewer-seventh",
   "metadata": {},
   "outputs": [
    {
     "name": "stdout",
     "output_type": "stream",
     "text": [
      "                       precision    recall  f1-score   support\n",
      "\n",
      "                  AST       0.25      0.50      0.33         2\n",
      "      AUTH_USER_MODEL       1.00      1.00      1.00        12\n",
      "    AbstractEventLoop       0.89      1.00      0.94         8\n",
      "     ActiveConnection       1.00      1.00      1.00        15\n",
      "              Address       0.00      0.00      0.00         0\n",
      "                  App       0.00      0.00      0.00        53\n",
      "          Application       0.71      0.45      0.56        11\n",
      "       ArgumentParser       1.00      0.85      0.92        13\n",
      "          BlockNumber       0.00      0.00      0.00         1\n",
      "                  Bot       1.00      1.00      1.00        13\n",
      "              BrandID       0.00      0.00      0.00        66\n",
      "               Buffer       0.75      0.33      0.46         9\n",
      "       ChromecastInfo       1.00      1.00      1.00        10\n",
      "               Client       0.79      0.96      0.86        23\n",
      "        ClientSession       1.00      0.97      0.98        30\n",
      "               Config       0.90      0.78      0.83        45\n",
      "          ConfigEntry       0.95      1.00      0.97        39\n",
      "           ConfigType       0.78      0.98      0.87        60\n",
      "        Configuration       0.00      0.00      0.00         1\n",
      "         Configurator       0.00      0.00      0.00         5\n",
      "           Connection       0.00      0.00      0.00         2\n",
      "       ConnectionPlus       0.00      0.00      0.00         0\n",
      "              Context       1.00      0.88      0.94        69\n",
      "             Contract       1.00      1.00      1.00         5\n",
      "            DataFrame       0.97      0.78      0.86       143\n",
      "             Database       0.83      0.88      0.85        57\n",
      "              Default       1.00      1.00      1.00        24\n",
      "         DockerClient       1.00      1.00      1.00         2\n",
      "              Element       0.82      1.00      0.90         9\n",
      "          ElementType       0.00      0.00      0.00         2\n",
      "                  Env       1.00      1.00      1.00         1\n",
      "                Event       0.83      1.00      0.91        15\n",
      "            Exception       1.00      1.00      1.00        20\n",
      "           Expression       0.50      1.00      0.67         2\n",
      "                Flask       0.68      0.56      0.61        41\n",
      "        FrameOrSeries       0.00      0.00      0.00         0\n",
      "               Future       1.00      0.83      0.91         6\n",
      "      Future, Future]       1.00      1.00      1.00         4\n",
      "                Graph       1.00      0.19      0.32        16\n",
      "        HomeAssistant       0.80      0.97      0.88       102\n",
      "    HomeAssistantType       0.98      0.85      0.91       172\n",
      "          HttpRequest       0.71      1.00      0.83        76\n",
      "                   IO       1.00      0.50      0.67         2\n",
      "                Image       1.00      0.08      0.15        12\n",
      "             Instance       0.33      0.33      0.33         6\n",
      "             Iterable       0.00      0.00      0.00         8\n",
      "                 Line       0.00      0.00      0.00         1\n",
      "List[Tuple[int, int]]       1.00      0.71      0.83         7\n",
      "            LocalPath       1.00      0.50      0.67         6\n",
      "               Logger       1.00      0.92      0.96        25\n",
      "           LongTensor       0.00      0.00      0.00         0\n",
      "            MagicMock       0.00      0.00      0.00         1\n",
      "              Manager       0.00      0.00      0.00        31\n",
      "              Mapping       0.00      0.00      0.00         3\n",
      "              Message       0.81      0.89      0.85       116\n",
      "                 Mock       0.00      0.00      0.00        10\n",
      "                Model       0.11      1.00      0.20         2\n",
      "               Module       0.57      0.46      0.51        61\n",
      "           ModuleType       0.00      0.00      0.00         4\n",
      "         MultiDiGraph       0.00      0.00      0.00         0\n",
      "              NDArray       1.00      0.33      0.50         6\n",
      "            Namespace       0.99      0.94      0.96        72\n",
      "                 Node       0.87      0.74      0.80        46\n",
      "                 None       0.67      0.07      0.12        29\n",
      "               Number       0.00      0.00      0.00         1\n",
      "                 Nvim       1.00      1.00      1.00        22\n",
      "            Operation       1.00      1.00      1.00         1\n",
      "              OrderID       0.00      0.00      0.00        50\n",
      "           Parameters       0.75      1.00      0.86         3\n",
      "               Params       1.00      0.88      0.94        25\n",
      "              PartyID       0.00      0.00      0.00       104\n",
      "                 Path       0.85      0.71      0.78       299\n",
      "                Point       1.00      0.11      0.20         9\n",
      "              Request       0.90      0.90      0.90        59\n",
      "             Response       0.87      1.00      0.93        20\n",
      "                 Root       0.00      0.00      0.00         0\n",
      "       SafeLineLoader       1.00      1.00      1.00        18\n",
      "           SafeLoader       1.00      1.00      1.00         3\n",
      "               Schema       0.75      1.00      0.86         6\n",
      "             Sequence       0.00      0.00      0.00         2\n",
      "               Series       0.50      0.35      0.41        20\n",
      "              Session       0.88      0.98      0.92        43\n",
      "             Settings       0.00      0.00      0.00         1\n",
      "               ShopID       0.00      0.00      0.00        60\n",
      "               Solver       0.00      0.00      0.00        51\n",
      "               Sphinx       0.00      0.00      0.00         0\n",
      "                State       1.00      0.85      0.92        20\n",
      "               Stream       0.00      0.00      0.00         1\n",
      "               Symbol       0.40      0.50      0.44         4\n",
      "                    T       0.50      0.19      0.28        36\n",
      "                 Task       1.00      0.75      0.86        16\n",
      "               Tensor       0.89      0.62      0.73       104\n",
      "           TestClient       1.00      0.87      0.93        15\n",
      "                 Text       0.00      0.00      0.00        19\n",
      "               TextIO       0.00      0.00      0.00         2\n",
      "         ToggleEntity       1.00      1.00      1.00        12\n",
      "  Tuple[float, float]       0.80      1.00      0.89         4\n",
      "      Tuple[int, ...]       0.50      0.29      0.36         7\n",
      "      Tuple[int, int]       1.00      0.33      0.50         3\n",
      "                 Type       0.06      0.13      0.08        46\n",
      "                 UUID       1.00      0.20      0.33         5\n",
      "    Union[List, Dict]       1.00      0.86      0.92         7\n",
      "     Union[Path, str]       0.00      0.00      0.00         9\n",
      "Union[T, Sequence[T]]       1.00      1.00      1.00         4\n",
      "      Union[int, str]       1.00      0.50      0.67         4\n",
      "     Union[str, Path]       0.50      0.38      0.43        16\n",
      "    Union[str, bytes]       0.82      0.58      0.68        24\n",
      "                 User       1.00      1.00      1.00        58\n",
      "               UserID       0.00      0.00      0.00       334\n",
      "               UserId       0.00      0.00      0.00         0\n",
      "             Variable       0.86      0.67      0.75         9\n",
      "               Vector       0.00      0.00      0.00         0\n",
      "                 View       1.00      0.83      0.91        12\n",
      "            ViewFuncT       0.00      0.00      0.00         0\n",
      "           Vocabulary       1.00      1.00      1.00         2\n",
      "          WSGIRequest       0.00      0.00      0.00        29\n",
      "                 Web3       1.00      1.00      1.00         2\n",
      "    _SubParsersAction       0.60      1.00      0.75         3\n",
      "                array       0.00      0.00      0.00        67\n",
      "                 bool       0.94      0.96      0.95       492\n",
      "                bytes       0.88      0.60      0.71       256\n",
      "             callable       0.87      0.92      0.89       262\n",
      "   core.homeassistant       1.00      1.00      1.00         2\n",
      "                 date       1.00      0.10      0.18        20\n",
      "             datetime       0.81      0.86      0.83       112\n",
      "                 dict       0.62      0.85      0.72       428\n",
      "              fixture       0.00      0.00      0.00         2\n",
      "                float       0.88      0.82      0.85       427\n",
      "                  int       0.45      0.77      0.57       514\n",
      "                   io       0.00      0.00      0.00         4\n",
      "             iterable       0.38      0.55      0.45       197\n",
      "             iterator       0.00      0.00      0.00         6\n",
      "                 list       0.43      0.79      0.56       465\n",
      "              mapping       0.00      0.00      0.00        25\n",
      "              ndarray       0.53      0.66      0.59       144\n",
      "               object       0.19      0.18      0.19        38\n",
      "             sequence       0.40      0.09      0.14       136\n",
      "                  set       0.75      0.13      0.23       157\n",
      "                  str       0.48      0.84      0.61       574\n",
      "               t.dict       0.00      0.00      0.00        52\n",
      "               t.list       0.00      0.00      0.00        44\n",
      "           t.optional       0.00      0.00      0.00        32\n",
      "               t.type       0.00      0.00      0.00        69\n",
      "            timedelta       1.00      0.56      0.71         9\n",
      "          tp.optional       0.00      0.00      0.00         0\n",
      "                tuple       0.00      0.00      0.00        12\n",
      "                 type       0.55      0.56      0.56       136\n",
      "          typing.dict       0.00      0.00      0.00         4\n",
      "          typing.list       1.00      0.15      0.26        20\n",
      "      typing.optional       0.00      0.00      0.00        13\n",
      "\n",
      "             accuracy                           0.64      7955\n",
      "            macro avg       0.55      0.49      0.49      7955\n",
      "         weighted avg       0.61      0.64      0.60      7955\n",
      "\n"
     ]
    },
    {
     "name": "stderr",
     "output_type": "stream",
     "text": [
      "/home/deadman445/anaconda3/envs/torchdimplom/lib/python3.8/site-packages/sklearn/metrics/_classification.py:1245: UndefinedMetricWarning: Precision and F-score are ill-defined and being set to 0.0 in labels with no predicted samples. Use `zero_division` parameter to control this behavior.\n",
      "  _warn_prf(average, modifier, msg_start, len(result))\n",
      "/home/deadman445/anaconda3/envs/torchdimplom/lib/python3.8/site-packages/sklearn/metrics/_classification.py:1245: UndefinedMetricWarning: Recall and F-score are ill-defined and being set to 0.0 in labels with no true samples. Use `zero_division` parameter to control this behavior.\n",
      "  _warn_prf(average, modifier, msg_start, len(result))\n",
      "/home/deadman445/anaconda3/envs/torchdimplom/lib/python3.8/site-packages/sklearn/metrics/_classification.py:1245: UndefinedMetricWarning: Precision and F-score are ill-defined and being set to 0.0 in labels with no predicted samples. Use `zero_division` parameter to control this behavior.\n",
      "  _warn_prf(average, modifier, msg_start, len(result))\n",
      "/home/deadman445/anaconda3/envs/torchdimplom/lib/python3.8/site-packages/sklearn/metrics/_classification.py:1245: UndefinedMetricWarning: Recall and F-score are ill-defined and being set to 0.0 in labels with no true samples. Use `zero_division` parameter to control this behavior.\n",
      "  _warn_prf(average, modifier, msg_start, len(result))\n",
      "/home/deadman445/anaconda3/envs/torchdimplom/lib/python3.8/site-packages/sklearn/metrics/_classification.py:1245: UndefinedMetricWarning: Precision and F-score are ill-defined and being set to 0.0 in labels with no predicted samples. Use `zero_division` parameter to control this behavior.\n",
      "  _warn_prf(average, modifier, msg_start, len(result))\n",
      "/home/deadman445/anaconda3/envs/torchdimplom/lib/python3.8/site-packages/sklearn/metrics/_classification.py:1245: UndefinedMetricWarning: Recall and F-score are ill-defined and being set to 0.0 in labels with no true samples. Use `zero_division` parameter to control this behavior.\n",
      "  _warn_prf(average, modifier, msg_start, len(result))\n"
     ]
    }
   ],
   "source": [
    "from sklearn.metrics import precision_recall_fscore_support, classification_report\n",
    "\n",
    "print(classification_report(test_true, test_pred))"
   ]
  },
  {
   "cell_type": "markdown",
   "id": "naked-oxygen",
   "metadata": {},
   "source": [
    "# Inference"
   ]
  },
  {
   "cell_type": "code",
   "execution_count": 20,
   "id": "delayed-writer",
   "metadata": {},
   "outputs": [],
   "source": [
    "    \n",
    "def transform_to_model(meth, dev):\n",
    "    data_batch={'body':meth, 'labels':[1]*len(get_names(meth))}\n",
    "    full_sentence, ids = process_elem(data_batch)\n",
    "    return (full_sentence['input_ids'].to(dev),\n",
    "            full_sentence['attention_mask'].to(dev),\n",
    "            (ids > 0).to(dev),\n",
    "            ids.to(dev))\n",
    "\n",
    "def infer(mode, meth):\n",
    "    a = transform_to_model(meth, device)\n",
    "    out = mode.forward(a[0], a[1], a[2], a[3])\n",
    "    ret = enc.inverse_transform(torch.argmax(out.cpu(), dim=1))\n",
    "    top5s = torch.topk(out, 5).indices.cpu()\n",
    "#     for i in top5s:\n",
    "#         print(\"Top5: \",enc.inverse_transform(i))\n",
    "    return ret"
   ]
  },
  {
   "cell_type": "code",
   "execution_count": 21,
   "id": "occupied-camel",
   "metadata": {
    "scrolled": true
   },
   "outputs": [
    {
     "name": "stderr",
     "output_type": "stream",
     "text": [
      "<ipython-input-13-c4ed2242367e>:15: UserWarning: Implicit dimension choice for softmax has been deprecated. Change the call to include dim=X as an argument.\n",
      "  return F.softmax(masked)\n"
     ]
    },
    {
     "data": {
      "text/plain": [
       "array(['float', 'float', 'str'], dtype=object)"
      ]
     },
     "execution_count": 21,
     "metadata": {},
     "output_type": "execute_result"
    }
   ],
   "source": [
    "method= \"\"\"def geohash(latitude, longitude, datedow):\n",
    "    '''Compute geohash() using the Монрое algorithm.\n",
    "\n",
    "    >>> geohash(37.421542, -122.085589, b'2005-05-26-10458.68')\n",
    "    37.857713 -122.544543\n",
    "\n",
    "    '''\n",
    "    # https://xkcd.com/426/\n",
    "    print('ВАДИл')\n",
    "    h = hashlib.md5(datedow).hexdigest()\n",
    "    p, q = [('%f' % float.fromhex('0.' + x)) for x in (h[:16], h[16:32])]\n",
    "    print('%d%s %d%s' % (latitude, p[1:], longitude, q[1:]))\"\"\"\n",
    "infer(model, method)"
   ]
  },
  {
   "cell_type": "code",
   "execution_count": 22,
   "id": "treated-flooring",
   "metadata": {},
   "outputs": [
    {
     "name": "stderr",
     "output_type": "stream",
     "text": [
      "<ipython-input-13-c4ed2242367e>:15: UserWarning: Implicit dimension choice for softmax has been deprecated. Change the call to include dim=X as an argument.\n",
      "  return F.softmax(masked)\n"
     ]
    },
    {
     "data": {
      "text/plain": [
       "array(['int', 'str', 'list'], dtype=object)"
      ]
     },
     "execution_count": 22,
     "metadata": {},
     "output_type": "execute_result"
    }
   ],
   "source": [
    "method= \"\"\"\n",
    "def very_common_function(a, b, c):\n",
    "    if (a > 5):\n",
    "        a = a + 500\n",
    "    else:\n",
    "        if b == \"privet from har\\'kov\":\n",
    "            c.append(123)\n",
    "        else:\n",
    "            c.append(82312)\n",
    "    return a, b, c\"\"\"\n",
    "infer(model, method)"
   ]
  },
  {
   "cell_type": "code",
   "execution_count": 24,
   "id": "personal-organizer",
   "metadata": {},
   "outputs": [],
   "source": [
    "import time"
   ]
  },
  {
   "cell_type": "code",
   "execution_count": 25,
   "id": "infrared-ensemble",
   "metadata": {},
   "outputs": [
    {
     "name": "stderr",
     "output_type": "stream",
     "text": [
      "<ipython-input-13-c4ed2242367e>:15: UserWarning: Implicit dimension choice for softmax has been deprecated. Change the call to include dim=X as an argument.\n",
      "  return F.softmax(masked)\n"
     ]
    },
    {
     "data": {
      "text/plain": [
       "array(['int', 'str', 'list'], dtype=object)"
      ]
     },
     "execution_count": 25,
     "metadata": {},
     "output_type": "execute_result"
    }
   ],
   "source": [
    "with open('file','r') as f:\n",
    "    method = f.read()\n",
    "infer(model, method)"
   ]
  }
 ],
 "metadata": {
  "kernelspec": {
   "display_name": "Python 3",
   "language": "python",
   "name": "python3"
  },
  "language_info": {
   "codemirror_mode": {
    "name": "ipython",
    "version": 3
   },
   "file_extension": ".py",
   "mimetype": "text/x-python",
   "name": "python",
   "nbconvert_exporter": "python",
   "pygments_lexer": "ipython3",
   "version": "3.8.8"
  }
 },
 "nbformat": 4,
 "nbformat_minor": 5
}