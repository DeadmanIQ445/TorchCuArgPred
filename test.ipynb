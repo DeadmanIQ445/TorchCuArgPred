{
 "metadata": {
  "language_info": {
   "codemirror_mode": {
    "name": "ipython",
    "version": 3
   },
   "file_extension": ".py",
   "mimetype": "text/x-python",
   "name": "python",
   "nbconvert_exporter": "python",
   "pygments_lexer": "ipython3",
   "version": "3.8.8-final"
  },
  "orig_nbformat": 2,
  "kernelspec": {
   "name": "python3",
   "display_name": "Python 3.8.8 64-bit",
   "metadata": {
    "interpreter": {
     "hash": "dcdc7ebc49d6997645332737a3f311726b082586584fde8ab976d25fbc2c50ad"
    }
   }
  }
 },
 "nbformat": 4,
 "nbformat_minor": 2,
 "cells": [
  {
   "cell_type": "code",
   "execution_count": 1,
   "metadata": {},
   "outputs": [],
   "source": [
    "from transformers import AutoTokenizer, AutoModel\n",
    "import torch\n",
    "import pandas as pd\n",
    "import json\n",
    "import numpy as np\n",
    "from sklearn import preprocessing\n",
    "from torch import nn\n",
    "from tqdm.notebook import tqdm\n",
    "import torch.nn.functional as F"
   ]
  },
  {
   "cell_type": "code",
   "execution_count": 2,
   "metadata": {},
   "outputs": [],
   "source": [
    "BATCH_SIZE = 16\n",
    "load_from_scratch = False\n",
    "TRAIN_TEST_SPLIT = 0.9\n",
    "DS_PATH = \"/home/deadman445/PycharmProjects/CuArgPred/data/_all_data2.csv\"\n",
    "EPOCHS = 3\n",
    "shuffle_buffer_size = 10000\n",
    "SEQ_LENGTH = 512\n",
    "FREQ_LIMIT = 100\n",
    "FREQ_CUT_SYMBOL = \"<UNK>\"\n",
    "NaN_symbol = ''"
   ]
  },
  {
   "cell_type": "code",
   "execution_count": 3,
   "metadata": {},
   "outputs": [],
   "source": [
    "\n",
    "tokenizer = AutoTokenizer.from_pretrained(\"microsoft/codebert-base\")\n",
    "bert = AutoModel.from_pretrained(\"microsoft/codebert-base\")\n",
    "nl_tokens=tokenizer.tokenize(\"return maximum value\")"
   ]
  },
  {
   "cell_type": "code",
   "execution_count": 4,
   "metadata": {},
   "outputs": [],
   "source": [
    "import ast\n",
    "\n",
    "def get_names(src):\n",
    "    ret = []\n",
    "    line_lengths = [len(i) for i in src.split('\\n')]\n",
    "    for i in range(1,len(line_lengths)):\n",
    "        line_lengths[i] += line_lengths[i-1]+1\n",
    "    line_lengths = [0] + line_lengths\n",
    "    try:\n",
    "        for node in ast.walk(ast.parse(src)):\n",
    "            if isinstance(node, ast.arg):\n",
    "                ret.append((node.arg,(line_lengths[node.lineno-1]+node.col_offset, line_lengths[node.lineno-1]+node.end_col_offset)))\n",
    "        return ret\n",
    "    except:\n",
    "        print(\"Could Not process the code\")\n",
    "        return ret\n",
    "\n",
    "def la(data_batch_i):\n",
    "  r = []\n",
    "  for i in data_batch_i:\n",
    "        if not ((i == NaN_enc[0] or i==FREQ_CUT_ENC[0]) and len(data_batch_i)==1):\n",
    "            r.append(i)\n",
    "  if len(r) == 0:\n",
    "    return pd.NA\n",
    "  return r"
   ]
  },
  {
   "cell_type": "code",
   "execution_count": 19,
   "metadata": {},
   "outputs": [
    {
     "output_type": "stream",
     "name": "stdout",
     "text": [
      "[''] ['<UNK>']\nEnc for \"NaN\" [0], Enc for FREQ_CUT_SYMBOL [2]\n"
     ]
    }
   ],
   "source": [
    "data = pd.read_csv(DS_PATH)\n",
    "data['arg_types'] = data['arg_types'].apply(eval)\n",
    "data = data[data.arg_types.astype(bool)]\n",
    "df_labels = pd.DataFrame(data['arg_types'].values.tolist())\n",
    "\n",
    "df_labels[pd.isnull(df_labels)]  = NaN_symbol\n",
    "df_labels = df_labels.apply(lambda x: x.mask(x.map(x.value_counts())<FREQ_LIMIT, FREQ_CUT_SYMBOL))\n",
    "enc = preprocessing.LabelEncoder()\n",
    "all_types = df_labels.apply(pd.Series).stack().values\n",
    "enc.fit(all_types)\n",
    "np.save('classes.npy', enc.classes_)\n",
    "FREQ_CUT_ENC = enc.transform([FREQ_CUT_SYMBOL])\n",
    "NaN_enc = enc.transform([NaN_symbol])\n",
    "print(enc.inverse_transform(NaN_enc), enc.inverse_transform(FREQ_CUT_ENC))\n",
    "print(f'Enc for \"NaN\" {NaN_enc}, Enc for FREQ_CUT_SYMBOL {FREQ_CUT_ENC}')\n",
    "df3 = df_labels.apply(enc.transform)\n",
    "data['labels'] = df3.values.tolist()\n",
    "\n",
    "data['labels'] = data['labels'].apply(la)\n",
    "data = data.dropna(subset=['labels'], axis=0)\n",
    "\n",
    "\n",
    "\n",
    "def train_test_by_repo(data, split=0.75):\n",
    "    train_l = []\n",
    "    test_l = []\n",
    "    c = 0\n",
    "    train_len = split * len(data)\n",
    "    for name, i in data.groupby(['repo']).count().sample(frac=1).iterrows():\n",
    "        if train_len > c:\n",
    "            train_l.append(name)\n",
    "            c += i['author']\n",
    "        else:\n",
    "            test_l.append(name)\n",
    "    return data.loc[data['repo'].isin(train_l)], data.loc[data['repo'].isin(test_l)]\n",
    "\n",
    "\n",
    "train_ds, test_ds = train_test_by_repo(data, TRAIN_TEST_SPLIT)"
   ]
  },
  {
   "cell_type": "code",
   "execution_count": 20,
   "metadata": {},
   "outputs": [
    {
     "output_type": "execute_result",
     "data": {
      "text/plain": [
       "   Unnamed: 0  Unnamed: 0.1     author  repo  \\\n",
       "0           0             0  Fongshway  twpm   \n",
       "1           1             1  Fongshway  twpm   \n",
       "2           2             2  Fongshway  twpm   \n",
       "3           3             3  Fongshway  twpm   \n",
       "4           4             4  Fongshway  twpm   \n",
       "\n",
       "                                                file  \\\n",
       "0  ./cloner_output/Fongshway__twpm/twpm/hook_runn...   \n",
       "1  ./cloner_output/Fongshway__twpm/twpm/hooks/exa...   \n",
       "2  ./cloner_output/Fongshway__twpm/twpm/hooks/def...   \n",
       "3  ./cloner_output/Fongshway__twpm/twpm/hooks/def...   \n",
       "4  ./cloner_output/Fongshway__twpm/twpm/hooks/def...   \n",
       "\n",
       "                            has_type               name      arg_names  \\\n",
       "0  https://github.com/Fongshway/twpm          to output       ['task']   \n",
       "1  https://github.com/Fongshway/twpm               main       ['task']   \n",
       "2  https://github.com/Fongshway/twpm  be local midnight  ['timestamp']   \n",
       "3  https://github.com/Fongshway/twpm   set default time  ['timestamp']   \n",
       "4  https://github.com/Fongshway/twpm               main       ['task']   \n",
       "\n",
       "    arg_types          arg_descrs  \\\n",
       "0      [dict]  ['serialize task']   \n",
       "1      [Task]   ['task instance']   \n",
       "2  [datetime]                ['']   \n",
       "3  [datetime]                ['']   \n",
       "4      [Task]   ['task instance']   \n",
       "\n",
       "                                         return_expr  arg_names_len  \\\n",
       "0                       ['json dump task separator']              1   \n",
       "1                                                 []              1   \n",
       "2      ['timestamp astimezone tz tzlocal time time']              1   \n",
       "3  ['timestamp replace hour default time hour min...              1   \n",
       "4                               ['return', 'return']              1   \n",
       "\n",
       "   arg_types_len                                               body  \\\n",
       "0              1  def to_output(task) :\\n\\n        fields = Task...   \n",
       "1              1  def main(task) :\\n\\n    original = task['descr...   \n",
       "2              1  def is_local_midnight(timestamp) :\\n\\n    retu...   \n",
       "3              1  def set_default_time(timestamp) :\\n\\n    retur...   \n",
       "4              1  def main(task) :\\n    # pylint: disable=fixme\\...   \n",
       "\n",
       "                                              labels  \n",
       "0  [90, 0, 0, 0, 0, 0, 0, 0, 0, 0, 0, 0, 0, 0, 0,...  \n",
       "1  [2, 0, 0, 0, 0, 0, 0, 0, 0, 0, 0, 0, 0, 0, 0, ...  \n",
       "2  [88, 0, 0, 0, 0, 0, 0, 0, 0, 0, 0, 0, 0, 0, 0,...  \n",
       "3  [88, 0, 0, 0, 0, 0, 0, 0, 0, 0, 0, 0, 0, 0, 0,...  \n",
       "4  [2, 0, 0, 0, 0, 0, 0, 0, 0, 0, 0, 0, 0, 0, 0, ...  "
      ],
      "text/html": "<div>\n<style scoped>\n    .dataframe tbody tr th:only-of-type {\n        vertical-align: middle;\n    }\n\n    .dataframe tbody tr th {\n        vertical-align: top;\n    }\n\n    .dataframe thead th {\n        text-align: right;\n    }\n</style>\n<table border=\"1\" class=\"dataframe\">\n  <thead>\n    <tr style=\"text-align: right;\">\n      <th></th>\n      <th>Unnamed: 0</th>\n      <th>Unnamed: 0.1</th>\n      <th>author</th>\n      <th>repo</th>\n      <th>file</th>\n      <th>has_type</th>\n      <th>name</th>\n      <th>arg_names</th>\n      <th>arg_types</th>\n      <th>arg_descrs</th>\n      <th>return_expr</th>\n      <th>arg_names_len</th>\n      <th>arg_types_len</th>\n      <th>body</th>\n      <th>labels</th>\n    </tr>\n  </thead>\n  <tbody>\n    <tr>\n      <th>0</th>\n      <td>0</td>\n      <td>0</td>\n      <td>Fongshway</td>\n      <td>twpm</td>\n      <td>./cloner_output/Fongshway__twpm/twpm/hook_runn...</td>\n      <td>https://github.com/Fongshway/twpm</td>\n      <td>to output</td>\n      <td>['task']</td>\n      <td>[dict]</td>\n      <td>['serialize task']</td>\n      <td>['json dump task separator']</td>\n      <td>1</td>\n      <td>1</td>\n      <td>def to_output(task) :\\n\\n        fields = Task...</td>\n      <td>[90, 0, 0, 0, 0, 0, 0, 0, 0, 0, 0, 0, 0, 0, 0,...</td>\n    </tr>\n    <tr>\n      <th>1</th>\n      <td>1</td>\n      <td>1</td>\n      <td>Fongshway</td>\n      <td>twpm</td>\n      <td>./cloner_output/Fongshway__twpm/twpm/hooks/exa...</td>\n      <td>https://github.com/Fongshway/twpm</td>\n      <td>main</td>\n      <td>['task']</td>\n      <td>[Task]</td>\n      <td>['task instance']</td>\n      <td>[]</td>\n      <td>1</td>\n      <td>1</td>\n      <td>def main(task) :\\n\\n    original = task['descr...</td>\n      <td>[2, 0, 0, 0, 0, 0, 0, 0, 0, 0, 0, 0, 0, 0, 0, ...</td>\n    </tr>\n    <tr>\n      <th>2</th>\n      <td>2</td>\n      <td>2</td>\n      <td>Fongshway</td>\n      <td>twpm</td>\n      <td>./cloner_output/Fongshway__twpm/twpm/hooks/def...</td>\n      <td>https://github.com/Fongshway/twpm</td>\n      <td>be local midnight</td>\n      <td>['timestamp']</td>\n      <td>[datetime]</td>\n      <td>['']</td>\n      <td>['timestamp astimezone tz tzlocal time time']</td>\n      <td>1</td>\n      <td>1</td>\n      <td>def is_local_midnight(timestamp) :\\n\\n    retu...</td>\n      <td>[88, 0, 0, 0, 0, 0, 0, 0, 0, 0, 0, 0, 0, 0, 0,...</td>\n    </tr>\n    <tr>\n      <th>3</th>\n      <td>3</td>\n      <td>3</td>\n      <td>Fongshway</td>\n      <td>twpm</td>\n      <td>./cloner_output/Fongshway__twpm/twpm/hooks/def...</td>\n      <td>https://github.com/Fongshway/twpm</td>\n      <td>set default time</td>\n      <td>['timestamp']</td>\n      <td>[datetime]</td>\n      <td>['']</td>\n      <td>['timestamp replace hour default time hour min...</td>\n      <td>1</td>\n      <td>1</td>\n      <td>def set_default_time(timestamp) :\\n\\n    retur...</td>\n      <td>[88, 0, 0, 0, 0, 0, 0, 0, 0, 0, 0, 0, 0, 0, 0,...</td>\n    </tr>\n    <tr>\n      <th>4</th>\n      <td>4</td>\n      <td>4</td>\n      <td>Fongshway</td>\n      <td>twpm</td>\n      <td>./cloner_output/Fongshway__twpm/twpm/hooks/def...</td>\n      <td>https://github.com/Fongshway/twpm</td>\n      <td>main</td>\n      <td>['task']</td>\n      <td>[Task]</td>\n      <td>['task instance']</td>\n      <td>['return', 'return']</td>\n      <td>1</td>\n      <td>1</td>\n      <td>def main(task) :\\n    # pylint: disable=fixme\\...</td>\n      <td>[2, 0, 0, 0, 0, 0, 0, 0, 0, 0, 0, 0, 0, 0, 0, ...</td>\n    </tr>\n  </tbody>\n</table>\n</div>"
     },
     "metadata": {},
     "execution_count": 20
    }
   ],
   "source": [
    "data.head()"
   ]
  },
  {
   "cell_type": "code",
   "execution_count": 21,
   "metadata": {},
   "outputs": [
    {
     "output_type": "stream",
     "name": "stdout",
     "text": [
      "There are 1 GPU(s) available.\nDevice name: GeForce RTX 2060 SUPER\n"
     ]
    }
   ],
   "source": [
    "if torch.cuda.is_available():       \n",
    "    device = torch.device(\"cuda\")\n",
    "    print(f'There are {torch.cuda.device_count()} GPU(s) available.')\n",
    "    print('Device name:', torch.cuda.get_device_name(0))\n",
    "\n",
    "else:\n",
    "    print('No GPU available, using the CPU instead.')\n",
    "    device = torch.device(\"cpu\")"
   ]
  },
  {
   "cell_type": "code",
   "execution_count": 29,
   "metadata": {},
   "outputs": [],
   "source": [
    "def process_elem(data_batch_i):\n",
    "    sentence_line =  tokenizer(data_batch_i['body'], return_tensors='pt', padding='max_length', truncation=True)\n",
    "    sentence_line1 = tokenizer(data_batch_i['body'], padding='max_length', truncation=True,  return_offsets_mapping=True, return_length=True)\n",
    "    args = get_names(data_batch_i['body'])\n",
    "    args = offset2ind(args, sentence_line1)\n",
    "    labels = dict(zip(eval(data_batch_i['arg_names']), data_batch_i['labels']))\n",
    "    ids = torch.zeros_like(sentence_line['input_ids'])\n",
    "    for i in args:\n",
    "        ids[0][i[1]]=labels[i[0]]\n",
    "    return sentence_line, ids\n",
    "\n",
    "\n",
    "def offset2ind(args, tokens):\n",
    "    def find(tok, lis):\n",
    "        r = []\n",
    "        for i in lis:\n",
    "            if i[0]>=tok[1][0] and i[1]<=tok[1][1]:\n",
    "                r.append(i)\n",
    "                return\n",
    "        b = [lis.index(i) for i in r]\n",
    "        return b\n",
    "\n",
    "    return [(i[0], find(i,tokens['offset_mapping'])) for i in args]"
   ]
  },
  {
   "cell_type": "code",
   "execution_count": 30,
   "metadata": {},
   "outputs": [],
   "source": [
    "from torch.utils.data import Dataset, DataLoader\n",
    "\n",
    "\n",
    "class DataDataset(Dataset):\n",
    "\n",
    "    def __init__(self, df):\n",
    "        self.data = df\n",
    "\n",
    "    def __len__(self):\n",
    "        return len(self.data)\n",
    "\n",
    "    def __getitem__(self, idx):\n",
    "        if torch.is_tensor(idx):\n",
    "            idx = idx.tolist()\n",
    "\n",
    "        data_batch = self.data.iloc[idx, :]\n",
    "        full_sentence, ids = process_elem(data_batch)\n",
    "        return {'input_ids': full_sentence['input_ids'].squeeze().to(device),\n",
    "                    'attention_mask':full_sentence['attention_mask'].squeeze().to(device),\n",
    "                    'input_mask': (ids > 0).squeeze().to(device),\n",
    "                    'ids': ids.squeeze().to(device)}"
   ]
  },
  {
   "cell_type": "code",
   "execution_count": 31,
   "metadata": {},
   "outputs": [],
   "source": [
    "train = DataLoader(DataDataset(train_ds), batch_size=BATCH_SIZE,\n",
    "                        shuffle=True, num_workers=0)"
   ]
  },
  {
   "cell_type": "code",
   "execution_count": 34,
   "metadata": {},
   "outputs": [
    {
     "output_type": "stream",
     "name": "stdout",
     "text": [
      "\n"
     ]
    }
   ],
   "source": [
    "class Model(torch.nn.Module):\n",
    "    def __init__(self, bert, out_dim):\n",
    "        super().__init__()\n",
    "        self.out_dim = out_dim\n",
    "        self.bert = bert\n",
    "        self.dense = nn.Linear(768, out_dim)\n",
    "\n",
    "    def forward(self, a):\n",
    "        \n",
    "        emb = self.bert(a['input_ids'], attention_mask=a['attention_mask'])['last_hidden_state']\n",
    "        out = self.dense(emb)\n",
    "        mask = a['input_mask'].unsqueeze(-1).expand(out.size())\n",
    "        masked = torch.masked_select(out, mask).reshape(len(torch.masked_select(a['ids'], a['input_mask'])),self.out_dim)\n",
    "        return masked\n",
    "\n",
    "\n",
    "model = Model(bert, len(enc.classes_))\n",
    "model.to(device)\n",
    "print()"
   ]
  },
  {
   "cell_type": "code",
   "execution_count": 35,
   "metadata": {},
   "outputs": [],
   "source": [
    "for param in model.bert.parameters():\n",
    "    param.requires_grad = False"
   ]
  },
  {
   "cell_type": "code",
   "execution_count": 46,
   "metadata": {
    "tags": []
   },
   "outputs": [
    {
     "output_type": "display_data",
     "data": {
      "text/plain": "  0%|          | 0/6461 [00:00<?, ?it/s]",
      "application/vnd.jupyter.widget-view+json": {
       "version_major": 2,
       "version_minor": 0,
       "model_id": "2d3e9f57811a456aab25a19adb28e4c9"
      }
     },
     "metadata": {}
    },
    {
     "output_type": "error",
     "ename": "KeyboardInterrupt",
     "evalue": "",
     "traceback": [
      "\u001b[0;31m---------------------------------------------------------------------------\u001b[0m",
      "\u001b[0;31mKeyboardInterrupt\u001b[0m                         Traceback (most recent call last)",
      "\u001b[0;32m<ipython-input-46-5c9affa7e720>\u001b[0m in \u001b[0;36m<module>\u001b[0;34m\u001b[0m\n\u001b[1;32m      4\u001b[0m \u001b[0maccuracy\u001b[0m \u001b[0;34m=\u001b[0m \u001b[0;34m[\u001b[0m\u001b[0;34m]\u001b[0m\u001b[0;34m\u001b[0m\u001b[0;34m\u001b[0m\u001b[0m\n\u001b[1;32m      5\u001b[0m \u001b[0;32mfor\u001b[0m \u001b[0mi\u001b[0m\u001b[0;34m,\u001b[0m\u001b[0ma\u001b[0m \u001b[0;32min\u001b[0m \u001b[0menumerate\u001b[0m\u001b[0;34m(\u001b[0m\u001b[0mtrain\u001b[0m\u001b[0;34m)\u001b[0m\u001b[0;34m:\u001b[0m\u001b[0;34m\u001b[0m\u001b[0;34m\u001b[0m\u001b[0m\n\u001b[0;32m----> 6\u001b[0;31m     \u001b[0mout\u001b[0m \u001b[0;34m=\u001b[0m \u001b[0mmodel\u001b[0m\u001b[0;34m.\u001b[0m\u001b[0mforward\u001b[0m\u001b[0;34m(\u001b[0m\u001b[0ma\u001b[0m\u001b[0;34m)\u001b[0m\u001b[0;34m\u001b[0m\u001b[0;34m\u001b[0m\u001b[0m\n\u001b[0m\u001b[1;32m      7\u001b[0m     \u001b[0mlabels\u001b[0m \u001b[0;34m=\u001b[0m \u001b[0mtorch\u001b[0m\u001b[0;34m.\u001b[0m\u001b[0mmasked_select\u001b[0m\u001b[0;34m(\u001b[0m\u001b[0ma\u001b[0m\u001b[0;34m[\u001b[0m\u001b[0;34m'ids'\u001b[0m\u001b[0;34m]\u001b[0m\u001b[0;34m,\u001b[0m \u001b[0ma\u001b[0m\u001b[0;34m[\u001b[0m\u001b[0;34m'input_mask'\u001b[0m\u001b[0;34m]\u001b[0m\u001b[0;34m)\u001b[0m\u001b[0;34m\u001b[0m\u001b[0;34m\u001b[0m\u001b[0m\n\u001b[1;32m      8\u001b[0m     \u001b[0mloss\u001b[0m \u001b[0;34m=\u001b[0m \u001b[0mF\u001b[0m\u001b[0;34m.\u001b[0m\u001b[0mcross_entropy\u001b[0m\u001b[0;34m(\u001b[0m\u001b[0mout\u001b[0m\u001b[0;34m,\u001b[0m \u001b[0mlabels\u001b[0m\u001b[0;34m)\u001b[0m\u001b[0;34m\u001b[0m\u001b[0;34m\u001b[0m\u001b[0m\n",
      "\u001b[0;32m<ipython-input-34-a6586f4cb296>\u001b[0m in \u001b[0;36mforward\u001b[0;34m(self, a)\u001b[0m\n\u001b[1;32m     11\u001b[0m         \u001b[0mout\u001b[0m \u001b[0;34m=\u001b[0m \u001b[0mself\u001b[0m\u001b[0;34m.\u001b[0m\u001b[0mdense\u001b[0m\u001b[0;34m(\u001b[0m\u001b[0memb\u001b[0m\u001b[0;34m)\u001b[0m\u001b[0;34m\u001b[0m\u001b[0;34m\u001b[0m\u001b[0m\n\u001b[1;32m     12\u001b[0m         \u001b[0mmask\u001b[0m \u001b[0;34m=\u001b[0m \u001b[0ma\u001b[0m\u001b[0;34m[\u001b[0m\u001b[0;34m'input_mask'\u001b[0m\u001b[0;34m]\u001b[0m\u001b[0;34m.\u001b[0m\u001b[0munsqueeze\u001b[0m\u001b[0;34m(\u001b[0m\u001b[0;34m-\u001b[0m\u001b[0;36m1\u001b[0m\u001b[0;34m)\u001b[0m\u001b[0;34m.\u001b[0m\u001b[0mexpand\u001b[0m\u001b[0;34m(\u001b[0m\u001b[0mout\u001b[0m\u001b[0;34m.\u001b[0m\u001b[0msize\u001b[0m\u001b[0;34m(\u001b[0m\u001b[0;34m)\u001b[0m\u001b[0;34m)\u001b[0m\u001b[0;34m\u001b[0m\u001b[0;34m\u001b[0m\u001b[0m\n\u001b[0;32m---> 13\u001b[0;31m         \u001b[0mmasked\u001b[0m \u001b[0;34m=\u001b[0m \u001b[0mtorch\u001b[0m\u001b[0;34m.\u001b[0m\u001b[0mmasked_select\u001b[0m\u001b[0;34m(\u001b[0m\u001b[0mout\u001b[0m\u001b[0;34m,\u001b[0m \u001b[0mmask\u001b[0m\u001b[0;34m)\u001b[0m\u001b[0;34m.\u001b[0m\u001b[0mreshape\u001b[0m\u001b[0;34m(\u001b[0m\u001b[0mlen\u001b[0m\u001b[0;34m(\u001b[0m\u001b[0mtorch\u001b[0m\u001b[0;34m.\u001b[0m\u001b[0mmasked_select\u001b[0m\u001b[0;34m(\u001b[0m\u001b[0ma\u001b[0m\u001b[0;34m[\u001b[0m\u001b[0;34m'ids'\u001b[0m\u001b[0;34m]\u001b[0m\u001b[0;34m,\u001b[0m \u001b[0ma\u001b[0m\u001b[0;34m[\u001b[0m\u001b[0;34m'input_mask'\u001b[0m\u001b[0;34m]\u001b[0m\u001b[0;34m)\u001b[0m\u001b[0;34m)\u001b[0m\u001b[0;34m,\u001b[0m\u001b[0mself\u001b[0m\u001b[0;34m.\u001b[0m\u001b[0mout_dim\u001b[0m\u001b[0;34m)\u001b[0m\u001b[0;34m\u001b[0m\u001b[0;34m\u001b[0m\u001b[0m\n\u001b[0m\u001b[1;32m     14\u001b[0m         \u001b[0;32mreturn\u001b[0m \u001b[0mmasked\u001b[0m\u001b[0;34m\u001b[0m\u001b[0;34m\u001b[0m\u001b[0m\n\u001b[1;32m     15\u001b[0m \u001b[0;34m\u001b[0m\u001b[0m\n",
      "\u001b[0;31mKeyboardInterrupt\u001b[0m: "
     ]
    }
   ],
   "source": [
    "opti = torch.optim.Adam(model.parameters(), lr = 2e-5)\n",
    "pbar = tqdm(total=len(train))\n",
    "losses = []\n",
    "accuracy = []\n",
    "for i,a in enumerate(train):\n",
    "    out = model.forward(a)\n",
    "    labels = torch.masked_select(a['ids'], a['input_mask'])\n",
    "    loss = F.cross_entropy(out, labels)\n",
    "    if torch.isnan(loss):\n",
    "        # print(a)\n",
    "        pass\n",
    "    else:\n",
    "        accuracy.append(sum(torch.argmax(F.softmax(out), dim=1) == labels).detach()/len(labels))\n",
    "        losses.append(loss.detach())\n",
    "    loss.backward()\n",
    "    opti.step()\n",
    "    if i % 20 ==0:\n",
    "        pbar.set_description(f\"Loss : { sum(losses)/len(losses)}, acc: {sum(accuracy)/len(accuracy)}\")\n",
    "    pbar.update(1)\n",
    "pbar.close()"
   ]
  },
  {
   "cell_type": "code",
   "execution_count": 41,
   "metadata": {},
   "outputs": [],
   "source": []
  },
  {
   "cell_type": "code",
   "execution_count": 37,
   "metadata": {},
   "outputs": [],
   "source": [
    "test = DataLoader(DataDataset(test_ds), batch_size=1, num_workers=0)"
   ]
  },
  {
   "cell_type": "code",
   "execution_count": 38,
   "metadata": {},
   "outputs": [],
   "source": [
    "pr_av = lambda x : sum(x)/len(x)"
   ]
  },
  {
   "cell_type": "code",
   "execution_count": 45,
   "metadata": {},
   "outputs": [
    {
     "output_type": "display_data",
     "data": {
      "text/plain": "  0%|          | 0/11480 [00:00<?, ?it/s]",
      "application/vnd.jupyter.widget-view+json": {
       "version_major": 2,
       "version_minor": 0,
       "model_id": "727bd559bc094e78b32b58eea119048f"
      }
     },
     "metadata": {}
    },
    {
     "output_type": "error",
     "ename": "KeyboardInterrupt",
     "evalue": "",
     "traceback": [
      "\u001b[0;31m---------------------------------------------------------------------------\u001b[0m",
      "\u001b[0;31mKeyboardInterrupt\u001b[0m                         Traceback (most recent call last)",
      "\u001b[0;32m<ipython-input-45-4ae952067704>\u001b[0m in \u001b[0;36m<module>\u001b[0;34m\u001b[0m\n\u001b[1;32m      4\u001b[0m \u001b[0mtest_losses\u001b[0m \u001b[0;34m=\u001b[0m \u001b[0;34m[\u001b[0m\u001b[0;34m]\u001b[0m\u001b[0;34m\u001b[0m\u001b[0;34m\u001b[0m\u001b[0m\n\u001b[1;32m      5\u001b[0m \u001b[0;32mfor\u001b[0m \u001b[0mi\u001b[0m\u001b[0;34m,\u001b[0m\u001b[0ma\u001b[0m \u001b[0;32min\u001b[0m \u001b[0menumerate\u001b[0m\u001b[0;34m(\u001b[0m\u001b[0mtest\u001b[0m\u001b[0;34m)\u001b[0m\u001b[0;34m:\u001b[0m\u001b[0;34m\u001b[0m\u001b[0;34m\u001b[0m\u001b[0m\n\u001b[0;32m----> 6\u001b[0;31m     \u001b[0mout\u001b[0m \u001b[0;34m=\u001b[0m \u001b[0mmodel\u001b[0m\u001b[0;34m.\u001b[0m\u001b[0mforward\u001b[0m\u001b[0;34m(\u001b[0m\u001b[0ma\u001b[0m\u001b[0;34m)\u001b[0m\u001b[0;34m\u001b[0m\u001b[0;34m\u001b[0m\u001b[0m\n\u001b[0m\u001b[1;32m      7\u001b[0m     \u001b[0mlabels\u001b[0m \u001b[0;34m=\u001b[0m \u001b[0mtorch\u001b[0m\u001b[0;34m.\u001b[0m\u001b[0mmasked_select\u001b[0m\u001b[0;34m(\u001b[0m\u001b[0ma\u001b[0m\u001b[0;34m[\u001b[0m\u001b[0;34m'ids'\u001b[0m\u001b[0;34m]\u001b[0m\u001b[0;34m,\u001b[0m \u001b[0ma\u001b[0m\u001b[0;34m[\u001b[0m\u001b[0;34m'input_mask'\u001b[0m\u001b[0;34m]\u001b[0m\u001b[0;34m)\u001b[0m\u001b[0;34m\u001b[0m\u001b[0;34m\u001b[0m\u001b[0m\n\u001b[1;32m      8\u001b[0m     \u001b[0mloss\u001b[0m \u001b[0;34m=\u001b[0m \u001b[0mF\u001b[0m\u001b[0;34m.\u001b[0m\u001b[0mcross_entropy\u001b[0m\u001b[0;34m(\u001b[0m\u001b[0mout\u001b[0m\u001b[0;34m,\u001b[0m \u001b[0mlabels\u001b[0m\u001b[0;34m)\u001b[0m\u001b[0;34m\u001b[0m\u001b[0;34m\u001b[0m\u001b[0m\n",
      "\u001b[0;32m<ipython-input-34-a6586f4cb296>\u001b[0m in \u001b[0;36mforward\u001b[0;34m(self, a)\u001b[0m\n\u001b[1;32m     11\u001b[0m         \u001b[0mout\u001b[0m \u001b[0;34m=\u001b[0m \u001b[0mself\u001b[0m\u001b[0;34m.\u001b[0m\u001b[0mdense\u001b[0m\u001b[0;34m(\u001b[0m\u001b[0memb\u001b[0m\u001b[0;34m)\u001b[0m\u001b[0;34m\u001b[0m\u001b[0;34m\u001b[0m\u001b[0m\n\u001b[1;32m     12\u001b[0m         \u001b[0mmask\u001b[0m \u001b[0;34m=\u001b[0m \u001b[0ma\u001b[0m\u001b[0;34m[\u001b[0m\u001b[0;34m'input_mask'\u001b[0m\u001b[0;34m]\u001b[0m\u001b[0;34m.\u001b[0m\u001b[0munsqueeze\u001b[0m\u001b[0;34m(\u001b[0m\u001b[0;34m-\u001b[0m\u001b[0;36m1\u001b[0m\u001b[0;34m)\u001b[0m\u001b[0;34m.\u001b[0m\u001b[0mexpand\u001b[0m\u001b[0;34m(\u001b[0m\u001b[0mout\u001b[0m\u001b[0;34m.\u001b[0m\u001b[0msize\u001b[0m\u001b[0;34m(\u001b[0m\u001b[0;34m)\u001b[0m\u001b[0;34m)\u001b[0m\u001b[0;34m\u001b[0m\u001b[0;34m\u001b[0m\u001b[0m\n\u001b[0;32m---> 13\u001b[0;31m         \u001b[0mmasked\u001b[0m \u001b[0;34m=\u001b[0m \u001b[0mtorch\u001b[0m\u001b[0;34m.\u001b[0m\u001b[0mmasked_select\u001b[0m\u001b[0;34m(\u001b[0m\u001b[0mout\u001b[0m\u001b[0;34m,\u001b[0m \u001b[0mmask\u001b[0m\u001b[0;34m)\u001b[0m\u001b[0;34m.\u001b[0m\u001b[0mreshape\u001b[0m\u001b[0;34m(\u001b[0m\u001b[0mlen\u001b[0m\u001b[0;34m(\u001b[0m\u001b[0mtorch\u001b[0m\u001b[0;34m.\u001b[0m\u001b[0mmasked_select\u001b[0m\u001b[0;34m(\u001b[0m\u001b[0ma\u001b[0m\u001b[0;34m[\u001b[0m\u001b[0;34m'ids'\u001b[0m\u001b[0;34m]\u001b[0m\u001b[0;34m,\u001b[0m \u001b[0ma\u001b[0m\u001b[0;34m[\u001b[0m\u001b[0;34m'input_mask'\u001b[0m\u001b[0;34m]\u001b[0m\u001b[0;34m)\u001b[0m\u001b[0;34m)\u001b[0m\u001b[0;34m,\u001b[0m\u001b[0mself\u001b[0m\u001b[0;34m.\u001b[0m\u001b[0mout_dim\u001b[0m\u001b[0;34m)\u001b[0m\u001b[0;34m\u001b[0m\u001b[0;34m\u001b[0m\u001b[0m\n\u001b[0m\u001b[1;32m     14\u001b[0m         \u001b[0;32mreturn\u001b[0m \u001b[0mmasked\u001b[0m\u001b[0;34m\u001b[0m\u001b[0;34m\u001b[0m\u001b[0m\n\u001b[1;32m     15\u001b[0m \u001b[0;34m\u001b[0m\u001b[0m\n",
      "\u001b[0;31mKeyboardInterrupt\u001b[0m: "
     ]
    }
   ],
   "source": [
    "pbar = tqdm(total=len(test))\n",
    "test_top_5s = []\n",
    "test_accuracy = []\n",
    "test_losses = []\n",
    "for i,a in enumerate(test):\n",
    "    out = model.forward(a)\n",
    "    labels = torch.masked_select(a['ids'], a['input_mask'])\n",
    "    loss = F.cross_entropy(out, labels)\n",
    "    if torch.isnan(loss):\n",
    "        # print(a)\n",
    "        pass\n",
    "    else:\n",
    "        test_accuracy.append(sum(torch.argmax(F.softmax(out), dim=1) == labels).detach()/len(labels))\n",
    "        test_losses.append(loss.detach())\n",
    "        top5s = torch.topk(out, 5).indices\n",
    "        correct_top5 = 0\n",
    "        for i in range(len(labels)):\n",
    "            if labels[i] in top5s[i]:\n",
    "                correct_top5 += 1\n",
    "        test_top_5s.append(correct_top5/len(labels))\n",
    "    \n",
    "    if i % 20 ==0:\n",
    "        pbar.set_description(f\"Loss : { pr_av(test_losses)}, acc: {pr_av(test_accuracy)}, top5s: {pr_av(test_top_5s)}\")\n",
    "    pbar.update(1)\n",
    "pbar.close()"
   ]
  },
  {
   "cell_type": "code",
   "execution_count": 29,
   "metadata": {},
   "outputs": [
    {
     "output_type": "execute_result",
     "data": {
      "text/plain": [
       "tensor([2, 2, 2, 2, 2], device='cuda:0')"
      ]
     },
     "metadata": {},
     "execution_count": 29
    }
   ],
   "source": [
    "\n"
   ]
  }
 ]
}